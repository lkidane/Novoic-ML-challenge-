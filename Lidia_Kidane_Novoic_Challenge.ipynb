{
  "nbformat": 4,
  "nbformat_minor": 0,
  "metadata": {
    "colab": {
      "name": " Lidia Kidane Novoic Challenge.ipynb",
      "provenance": [],
      "collapsed_sections": [
        "gMqExwtUQph-",
        "8g43P1EhdhHP",
        "IpT947Av1kWI",
        "OHvwpnOV1Vqw",
        "CYTh9TY_1Jzh"
      ],
      "include_colab_link": true
    },
    "kernelspec": {
      "name": "python3",
      "display_name": "Python 3"
    },
    "accelerator": "GPU"
  },
  "cells": [
    {
      "cell_type": "markdown",
      "metadata": {
        "id": "view-in-github",
        "colab_type": "text"
      },
      "source": [
        "<a href=\"https://colab.research.google.com/github/lkidane/Novoic-ML-challenge-/blob/master/Lidia_Kidane_Novoic_Challenge.ipynb\" target=\"_parent\"><img src=\"https://colab.research.google.com/assets/colab-badge.svg\" alt=\"Open In Colab\"/></a>"
      ]
    },
    {
      "cell_type": "markdown",
      "metadata": {
        "id": "N4O-BOnDONSs",
        "colab_type": "text"
      },
      "source": [
        "## Novoic ML challenge – text data\n",
        "\n",
        "For this challenge I'll be using Keras with Tensorflow backend"
      ]
    },
    {
      "cell_type": "markdown",
      "metadata": {
        "id": "gMqExwtUQph-",
        "colab_type": "text"
      },
      "source": [
        "### Prepare the data\n",
        "Copy the dataset to a local directory – this should take a few seconds."
      ]
    },
    {
      "cell_type": "code",
      "metadata": {
        "id": "E4jatzKhNnXj",
        "colab_type": "code",
        "outputId": "1e0c71a4-a0ea-4c77-8c2b-82d210f1e387",
        "colab": {
          "base_uri": "https://localhost:8080/",
          "height": 104
        }
      },
      "source": [
        "!mkdir -p data_nov  # Create directory\n",
        "!gsutil -m cp -r gs://novoic-ml-challenge-text-data/* ./data_nov # Download data to directory"
      ],
      "execution_count": 1,
      "outputs": [
        {
          "output_type": "stream",
          "text": [
            "Copying gs://novoic-ml-challenge-text-data/LICENSE...\n",
            "Copying gs://novoic-ml-challenge-text-data/README.md...\n",
            "Copying gs://novoic-ml-challenge-text-data/data.txt...\n",
            "- [3/3 files][468.7 KiB/468.7 KiB] 100% Done                                    \n",
            "Operation completed over 3 objects/468.7 KiB.                                    \n"
          ],
          "name": "stdout"
        }
      ]
    },
    {
      "cell_type": "code",
      "metadata": {
        "id": "Vc73MZFZNwMM",
        "colab_type": "code",
        "outputId": "fdb5a786-58dc-478a-fe57-dd355ee10bea",
        "colab": {
          "base_uri": "https://localhost:8080/",
          "height": 34
        }
      },
      "source": [
        "!ls data_nov # View downloaded elements"
      ],
      "execution_count": 2,
      "outputs": [
        {
          "output_type": "stream",
          "text": [
            "data.txt  LICENSE  README.md\n"
          ],
          "name": "stdout"
        }
      ]
    },
    {
      "cell_type": "code",
      "metadata": {
        "id": "lNvknoIfk31D",
        "colab_type": "code",
        "colab": {
          "base_uri": "https://localhost:8080/",
          "height": 191
        },
        "outputId": "5b2cf742-893e-431c-b5a7-e421d25b91a6"
      },
      "source": [
        "!head -10 data_nov/data.txt #Read fist 10 lines of the file"
      ],
      "execution_count": 3,
      "outputs": [
        {
          "output_type": "stream",
          "text": [
            "ham\tGo until jurong point, crazy.. Available only in bugis n great world la e buffet... Cine there got amore wat...\n",
            "ham\tOk lar... Joking wif u oni...\n",
            "spam\tFree entry in 2 a wkly comp to win FA Cup final tkts 21st May 2005. Text FA to 87121 to receive entry question(std txt rate)T&C's apply 08452810075over18's\n",
            "ham\tU dun say so early hor... U c already then say...\n",
            "ham\tNah I don't think he goes to usf, he lives around here though\n",
            "spam\tFreeMsg Hey there darling it's been 3 week's now and no word back! I'd like some fun you up for it still? Tb ok! XxX std chgs to send, £1.50 to rcv\n",
            "ham\tEven my brother is not like to speak with me. They treat me like aids patent.\n",
            "ham\tAs per your request 'Melle Melle (Oru Minnaminunginte Nurungu Vettam)' has been set as your callertune for all Callers. Press *9 to copy your friends Callertune\n",
            "spam\tWINNER!! As a valued network customer you have been selected to receivea £900 prize reward! To claim call 09061701461. Claim code KL341. Valid 12 hours only.\n",
            "spam\tHad your mobile 11 months or more? U R entitled to Update to the latest colour mobiles with camera for Free! Call The Mobile Update Co FREE on 08002986030\n"
          ],
          "name": "stdout"
        }
      ]
    },
    {
      "cell_type": "code",
      "metadata": {
        "id": "s3sIK-eaRSUc",
        "colab_type": "code",
        "colab": {}
      },
      "source": [
        "# Read the data to notebook\n",
        "with open('data_nov/data.txt', 'r') as f:\n",
        "    msgs = f.read().splitlines()"
      ],
      "execution_count": 0,
      "outputs": []
    },
    {
      "cell_type": "code",
      "metadata": {
        "id": "UbWAbCkVSLmf",
        "colab_type": "code",
        "outputId": "be39adc4-e6d6-4cb8-d081-c0c8f3dd2610",
        "colab": {
          "base_uri": "https://localhost:8080/",
          "height": 173
        }
      },
      "source": [
        "msgs[0:9] #Read First 10 lines of the list"
      ],
      "execution_count": 5,
      "outputs": [
        {
          "output_type": "execute_result",
          "data": {
            "text/plain": [
              "['ham\\tGo until jurong point, crazy.. Available only in bugis n great world la e buffet... Cine there got amore wat...',\n",
              " 'ham\\tOk lar... Joking wif u oni...',\n",
              " \"spam\\tFree entry in 2 a wkly comp to win FA Cup final tkts 21st May 2005. Text FA to 87121 to receive entry question(std txt rate)T&C's apply 08452810075over18's\",\n",
              " 'ham\\tU dun say so early hor... U c already then say...',\n",
              " \"ham\\tNah I don't think he goes to usf, he lives around here though\",\n",
              " \"spam\\tFreeMsg Hey there darling it's been 3 week's now and no word back! I'd like some fun you up for it still? Tb ok! XxX std chgs to send, £1.50 to rcv\",\n",
              " 'ham\\tEven my brother is not like to speak with me. They treat me like aids patent.',\n",
              " \"ham\\tAs per your request 'Melle Melle (Oru Minnaminunginte Nurungu Vettam)' has been set as your callertune for all Callers. Press *9 to copy your friends Callertune\",\n",
              " 'spam\\tWINNER!! As a valued network customer you have been selected to receivea £900 prize reward! To claim call 09061701461. Claim code KL341. Valid 12 hours only.']"
            ]
          },
          "metadata": {
            "tags": []
          },
          "execution_count": 5
        }
      ]
    },
    {
      "cell_type": "code",
      "metadata": {
        "id": "R68NA8zfSnnX",
        "colab_type": "code",
        "outputId": "430d68ea-d07a-4fb7-f1de-31db8308b432",
        "colab": {
          "base_uri": "https://localhost:8080/",
          "height": 52
        }
      },
      "source": [
        "# View 10th and 11th message\n",
        "print(msgs[10])\n",
        "print(msgs[11])"
      ],
      "execution_count": 6,
      "outputs": [
        {
          "output_type": "stream",
          "text": [
            "ham\tI'm gonna be home soon and i don't want to talk about this stuff anymore tonight, k? I've cried enough today.\n",
            "spam\tSIX chances to win CASH! From 100 to 20,000 pounds txt> CSH11 and send to 87575. Cost 150p/day, 6days, 16+ TsandCs apply Reply HL 4 info\n"
          ],
          "name": "stdout"
        }
      ]
    },
    {
      "cell_type": "markdown",
      "metadata": {
        "id": "WXrofMwQWD6y",
        "colab_type": "text"
      },
      "source": [
        "Now I see the data for what it is, I need to split each line into a message and a label.\n",
        "\n",
        "Ordinarily I could have used pandas with sep = '\\t' but I'll like to try some other hand crafted functions."
      ]
    },
    {
      "cell_type": "code",
      "metadata": {
        "id": "MF6kj6p9URfS",
        "colab_type": "code",
        "colab": {}
      },
      "source": [
        "# Data Loading function\n",
        "def load_data(path = 'data_nov/data.txt'):\n",
        "    \"\"\"\n",
        "    INPUT:\n",
        "    .txt dataset\n",
        "    OUTPUT:\n",
        "    messages: All the messages stripped of their labels\n",
        "    labels: All message labels\n",
        "    \"\"\"\n",
        "    messages, labels = [], []\n",
        "    with open(path) as m:\n",
        "        for line in m:\n",
        "            split_lines = line.split()\n",
        "            labels.append(split_lines[0].strip())\n",
        "            messages.append(' '.join(split_lines[1:]).strip())\n",
        "    return messages, labels"
      ],
      "execution_count": 0,
      "outputs": []
    },
    {
      "cell_type": "code",
      "metadata": {
        "id": "2IfgmRYVT4KY",
        "colab_type": "code",
        "colab": {}
      },
      "source": [
        "# Call our function and parse to two variables\n",
        "messages, target = load_data()"
      ],
      "execution_count": 0,
      "outputs": []
    },
    {
      "cell_type": "code",
      "metadata": {
        "id": "QYpLwXP4Vxmp",
        "colab_type": "code",
        "outputId": "5dbf07f6-0429-46f3-c7e8-6c4aa82a8bc4",
        "colab": {
          "base_uri": "https://localhost:8080/",
          "height": 34
        }
      },
      "source": [
        "# Check to verify both target and messages are of same length\n",
        "len(target), len(messages)"
      ],
      "execution_count": 9,
      "outputs": [
        {
          "output_type": "execute_result",
          "data": {
            "text/plain": [
              "(5574, 5574)"
            ]
          },
          "metadata": {
            "tags": []
          },
          "execution_count": 9
        }
      ]
    },
    {
      "cell_type": "code",
      "metadata": {
        "id": "sYnOpvIXS-fj",
        "colab_type": "code",
        "outputId": "1df246cf-3ff5-4be9-a7f2-b7182affa09b",
        "colab": {
          "base_uri": "https://localhost:8080/",
          "height": 206
        }
      },
      "source": [
        "# Import data using pandas just to see how the data loads in pandas.\n",
        "import pandas as pd\n",
        "data = pd.read_table('data_nov/data.txt', sep='\\t', header=None)\n",
        "data.head()"
      ],
      "execution_count": 10,
      "outputs": [
        {
          "output_type": "execute_result",
          "data": {
            "text/html": [
              "<div>\n",
              "<style scoped>\n",
              "    .dataframe tbody tr th:only-of-type {\n",
              "        vertical-align: middle;\n",
              "    }\n",
              "\n",
              "    .dataframe tbody tr th {\n",
              "        vertical-align: top;\n",
              "    }\n",
              "\n",
              "    .dataframe thead th {\n",
              "        text-align: right;\n",
              "    }\n",
              "</style>\n",
              "<table border=\"1\" class=\"dataframe\">\n",
              "  <thead>\n",
              "    <tr style=\"text-align: right;\">\n",
              "      <th></th>\n",
              "      <th>0</th>\n",
              "      <th>1</th>\n",
              "    </tr>\n",
              "  </thead>\n",
              "  <tbody>\n",
              "    <tr>\n",
              "      <th>0</th>\n",
              "      <td>ham</td>\n",
              "      <td>Go until jurong point, crazy.. Available only ...</td>\n",
              "    </tr>\n",
              "    <tr>\n",
              "      <th>1</th>\n",
              "      <td>ham</td>\n",
              "      <td>Ok lar... Joking wif u oni...</td>\n",
              "    </tr>\n",
              "    <tr>\n",
              "      <th>2</th>\n",
              "      <td>spam</td>\n",
              "      <td>Free entry in 2 a wkly comp to win FA Cup fina...</td>\n",
              "    </tr>\n",
              "    <tr>\n",
              "      <th>3</th>\n",
              "      <td>ham</td>\n",
              "      <td>U dun say so early hor... U c already then say...</td>\n",
              "    </tr>\n",
              "    <tr>\n",
              "      <th>4</th>\n",
              "      <td>ham</td>\n",
              "      <td>Nah I don't think he goes to usf, he lives aro...</td>\n",
              "    </tr>\n",
              "  </tbody>\n",
              "</table>\n",
              "</div>"
            ],
            "text/plain": [
              "      0                                                  1\n",
              "0   ham  Go until jurong point, crazy.. Available only ...\n",
              "1   ham                      Ok lar... Joking wif u oni...\n",
              "2  spam  Free entry in 2 a wkly comp to win FA Cup fina...\n",
              "3   ham  U dun say so early hor... U c already then say...\n",
              "4   ham  Nah I don't think he goes to usf, he lives aro..."
            ]
          },
          "metadata": {
            "tags": []
          },
          "execution_count": 10
        }
      ]
    },
    {
      "cell_type": "markdown",
      "metadata": {
        "id": "Fnu5qHyPY6jG",
        "colab_type": "text"
      },
      "source": [
        "### The Challenge"
      ]
    },
    {
      "cell_type": "markdown",
      "metadata": {
        "id": "uUUvukcOZt1I",
        "colab_type": "text"
      },
      "source": [
        "Tasks:\n",
        "\n",
        "  1. Data exploration/visualization\n",
        "  2. Binary classification\n",
        "  3. Unsupervised clustering\n",
        "  4. Model explainability"
      ]
    },
    {
      "cell_type": "markdown",
      "metadata": {
        "id": "DaJB2WfUZxw0",
        "colab_type": "text"
      },
      "source": [
        "### 1. Data Exploration and Visualization"
      ]
    },
    {
      "cell_type": "code",
      "metadata": {
        "id": "Pu-pOzsQaz-J",
        "colab_type": "code",
        "colab": {}
      },
      "source": [
        "#import modules \n",
        "import numpy as np\n",
        "import string\n",
        "import re\n",
        "import matplotlib.pyplot as plt"
      ],
      "execution_count": 0,
      "outputs": []
    },
    {
      "cell_type": "code",
      "metadata": {
        "id": "c4Ydb42TTM-e",
        "colab_type": "code",
        "outputId": "ba5fec81-51c5-4a58-d601-bd01632fc62c",
        "colab": {
          "base_uri": "https://localhost:8080/",
          "height": 34
        }
      },
      "source": [
        "#Check to be sure I have only 2 unique clases of spam and ham in our targets\n",
        "np.unique(target)"
      ],
      "execution_count": 12,
      "outputs": [
        {
          "output_type": "execute_result",
          "data": {
            "text/plain": [
              "array(['ham', 'spam'], dtype='<U4')"
            ]
          },
          "metadata": {
            "tags": []
          },
          "execution_count": 12
        }
      ]
    },
    {
      "cell_type": "code",
      "metadata": {
        "id": "YPRteLE6Y5Xz",
        "colab_type": "code",
        "outputId": "09b4292e-fd67-435a-e54d-5740919318ad",
        "colab": {
          "base_uri": "https://localhost:8080/",
          "height": 34
        }
      },
      "source": [
        "# See number of unique cases for each class\n",
        "_,number_of_unique_values = np.unique(target, return_counts=True)\n",
        "print('Unique Values', number_of_unique_values)"
      ],
      "execution_count": 13,
      "outputs": [
        {
          "output_type": "stream",
          "text": [
            "Unique Values [4827  747]\n"
          ],
          "name": "stdout"
        }
      ]
    },
    {
      "cell_type": "code",
      "metadata": {
        "id": "uSbX0Uc__Zrj",
        "colab_type": "code",
        "outputId": "e4ec1dd0-dafc-4020-c867-990646141eea",
        "colab": {
          "base_uri": "https://localhost:8080/",
          "height": 248
        }
      },
      "source": [
        "# See a plot of the size of both labels.\n",
        "labels, sizes = np.unique(target, return_counts=True)\n",
        "colors = ['lightcoral', 'lightskyblue']\n",
        "explode = (0.1, 0)  # explode 1st slice\n",
        "\n",
        "plt.pie(sizes, explode=explode, labels=labels, colors=colors,\n",
        "autopct='%1.1f%%', shadow=True, startangle=160)\n",
        "\n",
        "plt.axis('equal')\n",
        "plt.show()"
      ],
      "execution_count": 14,
      "outputs": [
        {
          "output_type": "display_data",
          "data": {
            "image/png": "[encoded data removed]",
            "text/plain": [
              "<Figure size 432x288 with 1 Axes>"
            ]
          },
          "metadata": {
            "tags": []
          }
        }
      ]
    },
    {
      "cell_type": "markdown",
      "metadata": {
        "id": "PnKUf_zVcG8C",
        "colab_type": "text"
      },
      "source": [
        "Now I see the amount of imbalance in the labels. I'll attempt cleaning the messages (removing stopwords and punctuations) so I can have the cleaned out messages."
      ]
    },
    {
      "cell_type": "markdown",
      "metadata": {
        "id": "tsYWL35STcsZ",
        "colab_type": "text"
      },
      "source": [
        "1. Remove puntuations.\n",
        "2. Normalize the case in the sentences.\n",
        "3. Split sentences into words.\n",
        "4. Remove stopwords.\n",
        "5. Remove numerics and join strings together.\n",
        "5. Plot Wordcloud."
      ]
    },
    {
      "cell_type": "code",
      "metadata": {
        "id": "aXoqbg9jkAPF",
        "colab_type": "code",
        "outputId": "95c22795-bc69-40fe-d5f3-22653dcb3017",
        "colab": {
          "base_uri": "https://localhost:8080/",
          "height": 34
        }
      },
      "source": [
        "messages[10]"
      ],
      "execution_count": 15,
      "outputs": [
        {
          "output_type": "execute_result",
          "data": {
            "text/plain": [
              "\"I'm gonna be home soon and i don't want to talk about this stuff anymore tonight, k? I've cried enough today.\""
            ]
          },
          "metadata": {
            "tags": []
          },
          "execution_count": 15
        }
      ]
    },
    {
      "cell_type": "code",
      "metadata": {
        "id": "q5ydcHXMjike",
        "colab_type": "code",
        "outputId": "78303c49-0fe6-47de-ede2-fe9a25a31d66",
        "colab": {
          "base_uri": "https://localhost:8080/",
          "height": 34
        }
      },
      "source": [
        "# First I remove punctuations from the messages.\n",
        "punctuations = str.maketrans('', '', string.punctuation) # The string function allows us access to custom punctuations\n",
        "stripped_messages = []\n",
        "for word in messages:\n",
        "  stripped_messages.append(word.translate(punctuations))\n",
        "stripped_messages[10]"
      ],
      "execution_count": 16,
      "outputs": [
        {
          "output_type": "execute_result",
          "data": {
            "text/plain": [
              "'Im gonna be home soon and i dont want to talk about this stuff anymore tonight k Ive cried enough today'"
            ]
          },
          "metadata": {
            "tags": []
          },
          "execution_count": 16
        }
      ]
    },
    {
      "cell_type": "code",
      "metadata": {
        "id": "4NFsGhvfn3aC",
        "colab_type": "code",
        "outputId": "1cb29f12-7406-4338-f05d-7760b02d2b7c",
        "colab": {
          "base_uri": "https://localhost:8080/",
          "height": 34
        }
      },
      "source": [
        "# Secondly, I change to lower case\n",
        "lower_messages = []\n",
        "for sentence in stripped_messages:\n",
        "  lower_messages.append(sentence.lower())\n",
        "lower_messages[10]"
      ],
      "execution_count": 17,
      "outputs": [
        {
          "output_type": "execute_result",
          "data": {
            "text/plain": [
              "'im gonna be home soon and i dont want to talk about this stuff anymore tonight k ive cried enough today'"
            ]
          },
          "metadata": {
            "tags": []
          },
          "execution_count": 17
        }
      ]
    },
    {
      "cell_type": "code",
      "metadata": {
        "id": "XY0c4yG-eRqU",
        "colab_type": "code",
        "outputId": "929fcf17-98d1-48bb-ac71-ea79274cadc7",
        "colab": {
          "base_uri": "https://localhost:8080/",
          "height": 382
        }
      },
      "source": [
        "#Tekonization\n",
        "# Breaking down the sentences into words for each in the messages list\n",
        "messages1 = []\n",
        "for i in lower_messages:\n",
        "  messages1.append(i.split())\n",
        "messages1[10]"
      ],
      "execution_count": 18,
      "outputs": [
        {
          "output_type": "execute_result",
          "data": {
            "text/plain": [
              "['im',\n",
              " 'gonna',\n",
              " 'be',\n",
              " 'home',\n",
              " 'soon',\n",
              " 'and',\n",
              " 'i',\n",
              " 'dont',\n",
              " 'want',\n",
              " 'to',\n",
              " 'talk',\n",
              " 'about',\n",
              " 'this',\n",
              " 'stuff',\n",
              " 'anymore',\n",
              " 'tonight',\n",
              " 'k',\n",
              " 'ive',\n",
              " 'cried',\n",
              " 'enough',\n",
              " 'today']"
            ]
          },
          "metadata": {
            "tags": []
          },
          "execution_count": 18
        }
      ]
    },
    {
      "cell_type": "code",
      "metadata": {
        "id": "E81T5wOYsUwh",
        "colab_type": "code",
        "outputId": "7032059e-2f2f-436d-ed28-dab1666e9105",
        "colab": {
          "base_uri": "https://localhost:8080/",
          "height": 69
        }
      },
      "source": [
        "# I'll now remove stopwords from the text.\n",
        "#To do this I need to download the NLTK stopwords dictionary\n",
        "import nltk\n",
        "nltk.download('stopwords')"
      ],
      "execution_count": 19,
      "outputs": [
        {
          "output_type": "stream",
          "text": [
            "[nltk_data] Downloading package stopwords to /root/nltk_data...\n",
            "[nltk_data]   Unzipping corpora/stopwords.zip.\n"
          ],
          "name": "stdout"
        },
        {
          "output_type": "execute_result",
          "data": {
            "text/plain": [
              "True"
            ]
          },
          "metadata": {
            "tags": []
          },
          "execution_count": 19
        }
      ]
    },
    {
      "cell_type": "code",
      "metadata": {
        "id": "AvMjRHSCsGyG",
        "colab_type": "code",
        "outputId": "5493771d-6bab-4832-b421-bf65f9a14988",
        "colab": {
          "base_uri": "https://localhost:8080/",
          "height": 54
        }
      },
      "source": [
        "# Import stopwords from NLTK module and print them out\n",
        "from nltk.corpus import stopwords\n",
        "stop_words = stopwords.words('english')\n",
        "print(stop_words)"
      ],
      "execution_count": 20,
      "outputs": [
        {
          "output_type": "stream",
          "text": [
            "['i', 'me', 'my', 'myself', 'we', 'our', 'ours', 'ourselves', 'you', \"you're\", \"you've\", \"you'll\", \"you'd\", 'your', 'yours', 'yourself', 'yourselves', 'he', 'him', 'his', 'himself', 'she', \"she's\", 'her', 'hers', 'herself', 'it', \"it's\", 'its', 'itself', 'they', 'them', 'their', 'theirs', 'themselves', 'what', 'which', 'who', 'whom', 'this', 'that', \"that'll\", 'these', 'those', 'am', 'is', 'are', 'was', 'were', 'be', 'been', 'being', 'have', 'has', 'had', 'having', 'do', 'does', 'did', 'doing', 'a', 'an', 'the', 'and', 'but', 'if', 'or', 'because', 'as', 'until', 'while', 'of', 'at', 'by', 'for', 'with', 'about', 'against', 'between', 'into', 'through', 'during', 'before', 'after', 'above', 'below', 'to', 'from', 'up', 'down', 'in', 'out', 'on', 'off', 'over', 'under', 'again', 'further', 'then', 'once', 'here', 'there', 'when', 'where', 'why', 'how', 'all', 'any', 'both', 'each', 'few', 'more', 'most', 'other', 'some', 'such', 'no', 'nor', 'not', 'only', 'own', 'same', 'so', 'than', 'too', 'very', 's', 't', 'can', 'will', 'just', 'don', \"don't\", 'should', \"should've\", 'now', 'd', 'll', 'm', 'o', 're', 've', 'y', 'ain', 'aren', \"aren't\", 'couldn', \"couldn't\", 'didn', \"didn't\", 'doesn', \"doesn't\", 'hadn', \"hadn't\", 'hasn', \"hasn't\", 'haven', \"haven't\", 'isn', \"isn't\", 'ma', 'mightn', \"mightn't\", 'mustn', \"mustn't\", 'needn', \"needn't\", 'shan', \"shan't\", 'shouldn', \"shouldn't\", 'wasn', \"wasn't\", 'weren', \"weren't\", 'won', \"won't\", 'wouldn', \"wouldn't\"]\n"
          ],
          "name": "stdout"
        }
      ]
    },
    {
      "cell_type": "code",
      "metadata": {
        "id": "hPHcq19ClCOH",
        "colab_type": "code",
        "outputId": "bf6bf6fd-1c22-41e5-cca9-cac410b17ae0",
        "colab": {
          "base_uri": "https://localhost:8080/",
          "height": 278
        }
      },
      "source": [
        "# I'll now set my stopwords to a list and iterate through the list. \n",
        "stop_words = list(set(stopwords.words('english')))\n",
        "full = []\n",
        "for sentence in messages1:\n",
        "  temp = []\n",
        "  for word in sentence:\n",
        "    if word not in stop_words:\n",
        "      temp.append(word)\n",
        "  full.append(temp)\n",
        "full[10]"
      ],
      "execution_count": 21,
      "outputs": [
        {
          "output_type": "execute_result",
          "data": {
            "text/plain": [
              "['im',\n",
              " 'gonna',\n",
              " 'home',\n",
              " 'soon',\n",
              " 'dont',\n",
              " 'want',\n",
              " 'talk',\n",
              " 'stuff',\n",
              " 'anymore',\n",
              " 'tonight',\n",
              " 'k',\n",
              " 'ive',\n",
              " 'cried',\n",
              " 'enough',\n",
              " 'today']"
            ]
          },
          "metadata": {
            "tags": []
          },
          "execution_count": 21
        }
      ]
    },
    {
      "cell_type": "code",
      "metadata": {
        "id": "Ay-5pkUllCBx",
        "colab_type": "code",
        "outputId": "0a2dead7-8757-4ce8-8031-b8b6664ffcc4",
        "colab": {
          "base_uri": "https://localhost:8080/",
          "height": 34
        }
      },
      "source": [
        "# Verify that the full list is same size as our initial data so \n",
        "len(full)"
      ],
      "execution_count": 22,
      "outputs": [
        {
          "output_type": "execute_result",
          "data": {
            "text/plain": [
              "5574"
            ]
          },
          "metadata": {
            "tags": []
          },
          "execution_count": 22
        }
      ]
    },
    {
      "cell_type": "code",
      "metadata": {
        "id": "yC3YxKoQ6VpJ",
        "colab_type": "code",
        "outputId": "7d6d9c19-4db8-4ad8-b338-902c5f403953",
        "colab": {
          "base_uri": "https://localhost:8080/",
          "height": 34
        }
      },
      "source": [
        "# Now I finally remove numerics from the data and join our text together\n",
        "full1 = []\n",
        "# Iterate through the string, removing non-alphabets\n",
        "for sentence in full:\n",
        "  no_digits = []\n",
        "  for i in sentence:\n",
        "    if i.isalpha():\n",
        "      no_digits.append(i)\n",
        "  # Now join all elements of the list with ' ' which puts all of the characters together.\n",
        "  result = ' '.join(no_digits)\n",
        "  full1.append(result)\n",
        "full1[10]"
      ],
      "execution_count": 23,
      "outputs": [
        {
          "output_type": "execute_result",
          "data": {
            "text/plain": [
              "'im gonna home soon dont want talk stuff anymore tonight k ive cried enough today'"
            ]
          },
          "metadata": {
            "tags": []
          },
          "execution_count": 23
        }
      ]
    },
    {
      "cell_type": "code",
      "metadata": {
        "id": "26u_ayO_9nGX",
        "colab_type": "code",
        "outputId": "6d5dcaa7-7037-4664-cd1b-b00887a2577e",
        "colab": {
          "base_uri": "https://localhost:8080/",
          "height": 34
        }
      },
      "source": [
        "# Verify the length of the data\n",
        "len(full1)"
      ],
      "execution_count": 24,
      "outputs": [
        {
          "output_type": "execute_result",
          "data": {
            "text/plain": [
              "5574"
            ]
          },
          "metadata": {
            "tags": []
          },
          "execution_count": 24
        }
      ]
    },
    {
      "cell_type": "code",
      "metadata": {
        "id": "-ZxoD2bDlB_d",
        "colab_type": "code",
        "colab": {}
      },
      "source": [
        "# Lets plot a word cloud of the whole dataset\n",
        "from wordcloud import WordCloud\n",
        "import matplotlib.pyplot as plt"
      ],
      "execution_count": 0,
      "outputs": []
    },
    {
      "cell_type": "code",
      "metadata": {
        "id": "Si8HRWUw1d1H",
        "colab_type": "code",
        "outputId": "9ee9786d-4478-4212-e9fc-1ae2f61cdbb1",
        "colab": {
          "base_uri": "https://localhost:8080/",
          "height": 463
        }
      },
      "source": [
        "# Set our image width and height\n",
        "wordcloud = WordCloud(width = 800, height = 600, \n",
        "                      #background_color ='white', \n",
        "                      stopwords = stop_words, \n",
        "                      min_font_size = 10).generate(str(full1))\n",
        "  \n",
        "# plot the WordCloud image                        \n",
        "plt.figure(figsize = (8, 8), facecolor = 'k') \n",
        "plt.imshow(wordcloud) \n",
        "plt.axis(\"off\") \n",
        "plt.tight_layout(pad = 0) \n",
        "plt.savefig('wordcloud_data.png')\n",
        "plt.show() "
      ],
      "execution_count": 52,
      "outputs": [
        {
          "output_type": "display_data",
          "data": {
            "image/png": "[encoded data removed]",
            "text/plain": [
              "<Figure size 576x576 with 1 Axes>"
            ]
          },
          "metadata": {
            "tags": []
          }
        }
      ]
    },
    {
      "cell_type": "markdown",
      "metadata": {
        "id": "jNUCv8F12mkB",
        "colab_type": "text"
      },
      "source": [
        "Create 2 New wordcloud plots\n",
        "  1. ham only messages \n",
        "  2. spam only messages"
      ]
    },
    {
      "cell_type": "code",
      "metadata": {
        "id": "aLDskw3ZZymQ",
        "colab_type": "code",
        "colab": {}
      },
      "source": [
        "# Import modules\n",
        "from sklearn.feature_extraction.text import CountVectorizer\n",
        "import plotly.graph_objs as go\n",
        "import pandas as pd"
      ],
      "execution_count": 0,
      "outputs": []
    },
    {
      "cell_type": "code",
      "metadata": {
        "id": "3AHVW8TxAzkw",
        "colab_type": "code",
        "colab": {}
      },
      "source": [
        "# I'll use the count vectorizer module to get the count of words in my corpus\n",
        "def get_top_n_words(corpus, n=None):\n",
        "  vec = CountVectorizer(stop_words = 'english').fit(corpus)\n",
        "  bag_of_words = vec.transform(corpus)\n",
        "  sum_words = bag_of_words.sum(axis=0) \n",
        "  words_freq = [(word, sum_words[0, idx]) for word, idx in vec.vocabulary_.items()]\n",
        "  words_freq =sorted(words_freq, key = lambda x: x[1], reverse=True)\n",
        "  return words_freq[:n]"
      ],
      "execution_count": 0,
      "outputs": []
    },
    {
      "cell_type": "code",
      "metadata": {
        "id": "tiy9bTRRAzdz",
        "colab_type": "code",
        "colab": {}
      },
      "source": [
        "# Get the top 20 words\n",
        "common_words = get_top_n_words(full1, 20)"
      ],
      "execution_count": 0,
      "outputs": []
    },
    {
      "cell_type": "code",
      "metadata": {
        "id": "GjC_608mAzYT",
        "colab_type": "code",
        "outputId": "b7f633a0-240a-49af-cb96-618752496e9f",
        "colab": {
          "base_uri": "https://localhost:8080/",
          "height": 364
        }
      },
      "source": [
        "# print the words and frequency\n",
        "for word, freq in common_words:\n",
        "    print(word, freq)"
      ],
      "execution_count": 28,
      "outputs": [
        {
          "output_type": "stream",
          "text": [
            "im 464\n",
            "ur 390\n",
            "dont 287\n",
            "ok 278\n",
            "ltgt 276\n",
            "free 275\n",
            "know 257\n",
            "like 244\n",
            "got 239\n",
            "ill 239\n",
            "good 236\n",
            "come 229\n",
            "time 208\n",
            "day 203\n",
            "love 200\n",
            "want 193\n",
            "send 191\n",
            "text 188\n",
            "going 171\n",
            "need 167\n"
          ],
          "name": "stdout"
        }
      ]
    },
    {
      "cell_type": "code",
      "metadata": {
        "id": "m4c5k_Q1AzTF",
        "colab_type": "code",
        "outputId": "31c7d993-02e8-4b67-f4ea-8e3cdaeb4eab",
        "colab": {
          "base_uri": "https://localhost:8080/",
          "height": 206
        }
      },
      "source": [
        "# Send the series object to a dataframe\n",
        "df2 = pd.DataFrame(common_words, columns = ['top_words' , 'count'])\n",
        "df2.head()"
      ],
      "execution_count": 30,
      "outputs": [
        {
          "output_type": "execute_result",
          "data": {
            "text/html": [
              "<div>\n",
              "<style scoped>\n",
              "    .dataframe tbody tr th:only-of-type {\n",
              "        vertical-align: middle;\n",
              "    }\n",
              "\n",
              "    .dataframe tbody tr th {\n",
              "        vertical-align: top;\n",
              "    }\n",
              "\n",
              "    .dataframe thead th {\n",
              "        text-align: right;\n",
              "    }\n",
              "</style>\n",
              "<table border=\"1\" class=\"dataframe\">\n",
              "  <thead>\n",
              "    <tr style=\"text-align: right;\">\n",
              "      <th></th>\n",
              "      <th>top_words</th>\n",
              "      <th>count</th>\n",
              "    </tr>\n",
              "  </thead>\n",
              "  <tbody>\n",
              "    <tr>\n",
              "      <th>0</th>\n",
              "      <td>im</td>\n",
              "      <td>464</td>\n",
              "    </tr>\n",
              "    <tr>\n",
              "      <th>1</th>\n",
              "      <td>ur</td>\n",
              "      <td>390</td>\n",
              "    </tr>\n",
              "    <tr>\n",
              "      <th>2</th>\n",
              "      <td>dont</td>\n",
              "      <td>287</td>\n",
              "    </tr>\n",
              "    <tr>\n",
              "      <th>3</th>\n",
              "      <td>ok</td>\n",
              "      <td>278</td>\n",
              "    </tr>\n",
              "    <tr>\n",
              "      <th>4</th>\n",
              "      <td>ltgt</td>\n",
              "      <td>276</td>\n",
              "    </tr>\n",
              "  </tbody>\n",
              "</table>\n",
              "</div>"
            ],
            "text/plain": [
              "  top_words  count\n",
              "0        im    464\n",
              "1        ur    390\n",
              "2      dont    287\n",
              "3        ok    278\n",
              "4      ltgt    276"
            ]
          },
          "metadata": {
            "tags": []
          },
          "execution_count": 30
        }
      ]
    },
    {
      "cell_type": "code",
      "metadata": {
        "id": "dPQBYu7ZcCDM",
        "colab_type": "code",
        "outputId": "2a2f8027-5e0e-4a8a-b9f9-3218bf223c58",
        "colab": {
          "base_uri": "https://localhost:8080/",
          "height": 542
        }
      },
      "source": [
        "# Create a plot of the data\n",
        "fig = go.Figure( go.Bar(x =df2['top_words'], y = df2['count']))\n",
        "fig.show()"
      ],
      "execution_count": 31,
      "outputs": [
        {
          "output_type": "display_data",
          "data": {
            "text/html": [
              "<html>\n",
              "<head><meta charset=\"utf-8\" /></head>\n",
              "<body>\n",
              "    <div>\n",
              "            <script src=\"https://cdnjs.cloudflare.com/ajax/libs/mathjax/2.7.5/MathJax.js?config=TeX-AMS-MML_SVG\"></script><script type=\"text/javascript\">if (window.MathJax) {MathJax.Hub.Config({SVG: {font: \"STIX-Web\"}});}</script>\n",
              "                <script type=\"text/javascript\">window.PlotlyConfig = {MathJaxConfig: 'local'};</script>\n",
              "        <script src=\"https://cdn.plot.ly/plotly-latest.min.js\"></script>    \n",
              "            <div id=\"844bd528-987a-456f-abe6-393f535c975c\" class=\"plotly-graph-div\" style=\"height:525px; width:100%;\"></div>\n",
              "            <script type=\"text/javascript\">\n",
              "                \n",
              "                    window.PLOTLYENV=window.PLOTLYENV || {};\n",
              "                    \n",
              "                if (document.getElementById(\"844bd528-987a-456f-abe6-393f535c975c\")) {\n",
              "                    Plotly.newPlot(\n",
              "                        '844bd528-987a-456f-abe6-393f535c975c',\n",
              "                        [{\"type\": \"bar\", \"x\": [\"im\", \"ur\", \"dont\", \"ok\", \"ltgt\", \"free\", \"know\", \"like\", \"got\", \"ill\", \"good\", \"come\", \"time\", \"day\", \"love\", \"want\", \"send\", \"text\", \"going\", \"need\"], \"y\": [464, 390, 287, 278, 276, 275, 257, 244, 239, 239, 236, 229, 208, 203, 200, 193, 191, 188, 171, 167]}],\n",
              "                        {\"template\": {\"data\": {\"bar\": [{\"error_x\": {\"color\": \"#2a3f5f\"}, \"error_y\": {\"color\": \"#2a3f5f\"}, \"marker\": {\"line\": {\"color\": \"#E5ECF6\", \"width\": 0.5}}, \"type\": \"bar\"}], \"barpolar\": [{\"marker\": {\"line\": {\"color\": \"#E5ECF6\", \"width\": 0.5}}, \"type\": \"barpolar\"}], \"carpet\": [{\"aaxis\": {\"endlinecolor\": \"#2a3f5f\", \"gridcolor\": \"white\", \"linecolor\": \"white\", \"minorgridcolor\": \"white\", \"startlinecolor\": \"#2a3f5f\"}, \"baxis\": {\"endlinecolor\": \"#2a3f5f\", \"gridcolor\": \"white\", \"linecolor\": \"white\", \"minorgridcolor\": \"white\", \"startlinecolor\": \"#2a3f5f\"}, \"type\": \"carpet\"}], \"choropleth\": [{\"colorbar\": {\"outlinewidth\": 0, \"ticks\": \"\"}, \"type\": \"choropleth\"}], \"contour\": [{\"colorbar\": {\"outlinewidth\": 0, \"ticks\": \"\"}, \"colorscale\": [[0.0, \"#0d0887\"], [0.1111111111111111, \"#46039f\"], [0.2222222222222222, \"#7201a8\"], [0.3333333333333333, \"#9c179e\"], [0.4444444444444444, \"#bd3786\"], [0.5555555555555556, \"#d8576b\"], [0.6666666666666666, \"#ed7953\"], [0.7777777777777778, \"#fb9f3a\"], [0.8888888888888888, \"#fdca26\"], [1.0, \"#f0f921\"]], \"type\": \"contour\"}], \"contourcarpet\": [{\"colorbar\": {\"outlinewidth\": 0, \"ticks\": \"\"}, \"type\": \"contourcarpet\"}], \"heatmap\": [{\"colorbar\": {\"outlinewidth\": 0, \"ticks\": \"\"}, \"colorscale\": [[0.0, \"#0d0887\"], [0.1111111111111111, \"#46039f\"], [0.2222222222222222, \"#7201a8\"], [0.3333333333333333, \"#9c179e\"], [0.4444444444444444, \"#bd3786\"], [0.5555555555555556, \"#d8576b\"], [0.6666666666666666, \"#ed7953\"], [0.7777777777777778, \"#fb9f3a\"], [0.8888888888888888, \"#fdca26\"], [1.0, \"#f0f921\"]], \"type\": \"heatmap\"}], \"heatmapgl\": [{\"colorbar\": {\"outlinewidth\": 0, \"ticks\": \"\"}, \"colorscale\": [[0.0, \"#0d0887\"], [0.1111111111111111, \"#46039f\"], [0.2222222222222222, \"#7201a8\"], [0.3333333333333333, \"#9c179e\"], [0.4444444444444444, \"#bd3786\"], [0.5555555555555556, \"#d8576b\"], [0.6666666666666666, \"#ed7953\"], [0.7777777777777778, \"#fb9f3a\"], [0.8888888888888888, \"#fdca26\"], [1.0, \"#f0f921\"]], \"type\": \"heatmapgl\"}], \"histogram\": [{\"marker\": {\"colorbar\": {\"outlinewidth\": 0, \"ticks\": \"\"}}, \"type\": \"histogram\"}], \"histogram2d\": [{\"colorbar\": {\"outlinewidth\": 0, \"ticks\": \"\"}, \"colorscale\": [[0.0, \"#0d0887\"], [0.1111111111111111, \"#46039f\"], [0.2222222222222222, \"#7201a8\"], [0.3333333333333333, \"#9c179e\"], [0.4444444444444444, \"#bd3786\"], [0.5555555555555556, \"#d8576b\"], [0.6666666666666666, \"#ed7953\"], [0.7777777777777778, \"#fb9f3a\"], [0.8888888888888888, \"#fdca26\"], [1.0, \"#f0f921\"]], \"type\": \"histogram2d\"}], \"histogram2dcontour\": [{\"colorbar\": {\"outlinewidth\": 0, \"ticks\": \"\"}, \"colorscale\": [[0.0, \"#0d0887\"], [0.1111111111111111, \"#46039f\"], [0.2222222222222222, \"#7201a8\"], [0.3333333333333333, \"#9c179e\"], [0.4444444444444444, \"#bd3786\"], [0.5555555555555556, \"#d8576b\"], [0.6666666666666666, \"#ed7953\"], [0.7777777777777778, \"#fb9f3a\"], [0.8888888888888888, \"#fdca26\"], [1.0, \"#f0f921\"]], \"type\": \"histogram2dcontour\"}], \"mesh3d\": [{\"colorbar\": {\"outlinewidth\": 0, \"ticks\": \"\"}, \"type\": \"mesh3d\"}], \"parcoords\": [{\"line\": {\"colorbar\": {\"outlinewidth\": 0, \"ticks\": \"\"}}, \"type\": \"parcoords\"}], \"pie\": [{\"automargin\": true, \"type\": \"pie\"}], \"scatter\": [{\"marker\": {\"colorbar\": {\"outlinewidth\": 0, \"ticks\": \"\"}}, \"type\": \"scatter\"}], \"scatter3d\": [{\"line\": {\"colorbar\": {\"outlinewidth\": 0, \"ticks\": \"\"}}, \"marker\": {\"colorbar\": {\"outlinewidth\": 0, \"ticks\": \"\"}}, \"type\": \"scatter3d\"}], \"scattercarpet\": [{\"marker\": {\"colorbar\": {\"outlinewidth\": 0, \"ticks\": \"\"}}, \"type\": \"scattercarpet\"}], \"scattergeo\": [{\"marker\": {\"colorbar\": {\"outlinewidth\": 0, \"ticks\": \"\"}}, \"type\": \"scattergeo\"}], \"scattergl\": [{\"marker\": {\"colorbar\": {\"outlinewidth\": 0, \"ticks\": \"\"}}, \"type\": \"scattergl\"}], \"scattermapbox\": [{\"marker\": {\"colorbar\": {\"outlinewidth\": 0, \"ticks\": \"\"}}, \"type\": \"scattermapbox\"}], \"scatterpolar\": [{\"marker\": {\"colorbar\": {\"outlinewidth\": 0, \"ticks\": \"\"}}, \"type\": \"scatterpolar\"}], \"scatterpolargl\": [{\"marker\": {\"colorbar\": {\"outlinewidth\": 0, \"ticks\": \"\"}}, \"type\": \"scatterpolargl\"}], \"scatterternary\": [{\"marker\": {\"colorbar\": {\"outlinewidth\": 0, \"ticks\": \"\"}}, \"type\": \"scatterternary\"}], \"surface\": [{\"colorbar\": {\"outlinewidth\": 0, \"ticks\": \"\"}, \"colorscale\": [[0.0, \"#0d0887\"], [0.1111111111111111, \"#46039f\"], [0.2222222222222222, \"#7201a8\"], [0.3333333333333333, \"#9c179e\"], [0.4444444444444444, \"#bd3786\"], [0.5555555555555556, \"#d8576b\"], [0.6666666666666666, \"#ed7953\"], [0.7777777777777778, \"#fb9f3a\"], [0.8888888888888888, \"#fdca26\"], [1.0, \"#f0f921\"]], \"type\": \"surface\"}], \"table\": [{\"cells\": {\"fill\": {\"color\": \"#EBF0F8\"}, \"line\": {\"color\": \"white\"}}, \"header\": {\"fill\": {\"color\": \"#C8D4E3\"}, \"line\": {\"color\": \"white\"}}, \"type\": \"table\"}]}, \"layout\": {\"annotationdefaults\": {\"arrowcolor\": \"#2a3f5f\", \"arrowhead\": 0, \"arrowwidth\": 1}, \"coloraxis\": {\"colorbar\": {\"outlinewidth\": 0, \"ticks\": \"\"}}, \"colorscale\": {\"diverging\": [[0, \"#8e0152\"], [0.1, \"#c51b7d\"], [0.2, \"#de77ae\"], [0.3, \"#f1b6da\"], [0.4, \"#fde0ef\"], [0.5, \"#f7f7f7\"], [0.6, \"#e6f5d0\"], [0.7, \"#b8e186\"], [0.8, \"#7fbc41\"], [0.9, \"#4d9221\"], [1, \"#276419\"]], \"sequential\": [[0.0, \"#0d0887\"], [0.1111111111111111, \"#46039f\"], [0.2222222222222222, \"#7201a8\"], [0.3333333333333333, \"#9c179e\"], [0.4444444444444444, \"#bd3786\"], [0.5555555555555556, \"#d8576b\"], [0.6666666666666666, \"#ed7953\"], [0.7777777777777778, \"#fb9f3a\"], [0.8888888888888888, \"#fdca26\"], [1.0, \"#f0f921\"]], \"sequentialminus\": [[0.0, \"#0d0887\"], [0.1111111111111111, \"#46039f\"], [0.2222222222222222, \"#7201a8\"], [0.3333333333333333, \"#9c179e\"], [0.4444444444444444, \"#bd3786\"], [0.5555555555555556, \"#d8576b\"], [0.6666666666666666, \"#ed7953\"], [0.7777777777777778, \"#fb9f3a\"], [0.8888888888888888, \"#fdca26\"], [1.0, \"#f0f921\"]]}, \"colorway\": [\"#636efa\", \"#EF553B\", \"#00cc96\", \"#ab63fa\", \"#FFA15A\", \"#19d3f3\", \"#FF6692\", \"#B6E880\", \"#FF97FF\", \"#FECB52\"], \"font\": {\"color\": \"#2a3f5f\"}, \"geo\": {\"bgcolor\": \"white\", \"lakecolor\": \"white\", \"landcolor\": \"#E5ECF6\", \"showlakes\": true, \"showland\": true, \"subunitcolor\": \"white\"}, \"hoverlabel\": {\"align\": \"left\"}, \"hovermode\": \"closest\", \"mapbox\": {\"style\": \"light\"}, \"paper_bgcolor\": \"white\", \"plot_bgcolor\": \"#E5ECF6\", \"polar\": {\"angularaxis\": {\"gridcolor\": \"white\", \"linecolor\": \"white\", \"ticks\": \"\"}, \"bgcolor\": \"#E5ECF6\", \"radialaxis\": {\"gridcolor\": \"white\", \"linecolor\": \"white\", \"ticks\": \"\"}}, \"scene\": {\"xaxis\": {\"backgroundcolor\": \"#E5ECF6\", \"gridcolor\": \"white\", \"gridwidth\": 2, \"linecolor\": \"white\", \"showbackground\": true, \"ticks\": \"\", \"zerolinecolor\": \"white\"}, \"yaxis\": {\"backgroundcolor\": \"#E5ECF6\", \"gridcolor\": \"white\", \"gridwidth\": 2, \"linecolor\": \"white\", \"showbackground\": true, \"ticks\": \"\", \"zerolinecolor\": \"white\"}, \"zaxis\": {\"backgroundcolor\": \"#E5ECF6\", \"gridcolor\": \"white\", \"gridwidth\": 2, \"linecolor\": \"white\", \"showbackground\": true, \"ticks\": \"\", \"zerolinecolor\": \"white\"}}, \"shapedefaults\": {\"line\": {\"color\": \"#2a3f5f\"}}, \"ternary\": {\"aaxis\": {\"gridcolor\": \"white\", \"linecolor\": \"white\", \"ticks\": \"\"}, \"baxis\": {\"gridcolor\": \"white\", \"linecolor\": \"white\", \"ticks\": \"\"}, \"bgcolor\": \"#E5ECF6\", \"caxis\": {\"gridcolor\": \"white\", \"linecolor\": \"white\", \"ticks\": \"\"}}, \"title\": {\"x\": 0.05}, \"xaxis\": {\"automargin\": true, \"gridcolor\": \"white\", \"linecolor\": \"white\", \"ticks\": \"\", \"title\": {\"standoff\": 15}, \"zerolinecolor\": \"white\", \"zerolinewidth\": 2}, \"yaxis\": {\"automargin\": true, \"gridcolor\": \"white\", \"linecolor\": \"white\", \"ticks\": \"\", \"title\": {\"standoff\": 15}, \"zerolinecolor\": \"white\", \"zerolinewidth\": 2}}}},\n",
              "                        {\"responsive\": true}\n",
              "                    ).then(function(){\n",
              "                            \n",
              "var gd = document.getElementById('844bd528-987a-456f-abe6-393f535c975c');\n",
              "var x = new MutationObserver(function (mutations, observer) {{\n",
              "        var display = window.getComputedStyle(gd).display;\n",
              "        if (!display || display === 'none') {{\n",
              "            console.log([gd, 'removed!']);\n",
              "            Plotly.purge(gd);\n",
              "            observer.disconnect();\n",
              "        }}\n",
              "}});\n",
              "\n",
              "// Listen for the removal of the full notebook cells\n",
              "var notebookContainer = gd.closest('#notebook-container');\n",
              "if (notebookContainer) {{\n",
              "    x.observe(notebookContainer, {childList: true});\n",
              "}}\n",
              "\n",
              "// Listen for the clearing of the current output cell\n",
              "var outputEl = gd.closest('.output');\n",
              "if (outputEl) {{\n",
              "    x.observe(outputEl, {childList: true});\n",
              "}}\n",
              "\n",
              "                        })\n",
              "                };\n",
              "                \n",
              "            </script>\n",
              "        </div>\n",
              "</body>\n",
              "</html>"
            ]
          },
          "metadata": {
            "tags": []
          }
        }
      ]
    },
    {
      "cell_type": "code",
      "metadata": {
        "id": "ZGceGTEDYo6q",
        "colab_type": "code",
        "outputId": "214f57ab-4ed0-43ff-e441-98c0075682e8",
        "colab": {
          "base_uri": "https://localhost:8080/",
          "height": 34
        }
      },
      "source": [
        "# Check the dataframe \n",
        "len(target), len(full1)"
      ],
      "execution_count": 32,
      "outputs": [
        {
          "output_type": "execute_result",
          "data": {
            "text/plain": [
              "(5574, 5574)"
            ]
          },
          "metadata": {
            "tags": []
          },
          "execution_count": 32
        }
      ]
    },
    {
      "cell_type": "code",
      "metadata": {
        "id": "IIf7tqXQdfgr",
        "colab_type": "code",
        "colab": {}
      },
      "source": [
        ""
      ],
      "execution_count": 0,
      "outputs": []
    },
    {
      "cell_type": "markdown",
      "metadata": {
        "id": "8g43P1EhdhHP",
        "colab_type": "text"
      },
      "source": [
        "### 2. Binary classification"
      ]
    },
    {
      "cell_type": "markdown",
      "metadata": {
        "id": "hIVweiTJd9Fi",
        "colab_type": "text"
      },
      "source": [
        "Now I have our dataset, I will tokenize (vectorize) the cleaned dataset, pad the sequence of words and build a binary classifier for the task."
      ]
    },
    {
      "cell_type": "code",
      "metadata": {
        "id": "x_4Geg0pcjIo",
        "colab_type": "code",
        "colab": {
          "base_uri": "https://localhost:8080/",
          "height": 81
        },
        "outputId": "39dc4411-0ea4-4e77-b883-2988e27fbfe7"
      },
      "source": [
        "# Import modules for model\n",
        "from keras.preprocessing.sequence import pad_sequences\n",
        "from keras.models import Sequential\n",
        "from keras.layers import Dense, Flatten\n",
        "from keras.layers.embeddings import Embedding\n",
        "from sklearn.model_selection import train_test_split\n",
        "# Import tokenizer\n",
        "from keras.preprocessing.text import Tokenizer"
      ],
      "execution_count": 33,
      "outputs": [
        {
          "output_type": "stream",
          "text": [
            "Using TensorFlow backend.\n"
          ],
          "name": "stderr"
        },
        {
          "output_type": "display_data",
          "data": {
            "text/html": [
              "<p style=\"color: red;\">\n",
              "The default version of TensorFlow in Colab will soon switch to TensorFlow 2.x.<br>\n",
              "We recommend you <a href=\"https://www.tensorflow.org/guide/migrate\" target=\"_blank\">upgrade</a> now \n",
              "or ensure your notebook will continue to use TensorFlow 1.x via the <code>%tensorflow_version 1.x</code> magic:\n",
              "<a href=\"https://colab.research.google.com/notebooks/tensorflow_version.ipynb\" target=\"_blank\">more info</a>.</p>\n"
            ],
            "text/plain": [
              "<IPython.core.display.HTML object>"
            ]
          },
          "metadata": {
            "tags": []
          }
        }
      ]
    },
    {
      "cell_type": "code",
      "metadata": {
        "id": "Wajo97ffdfXi",
        "colab_type": "code",
        "colab": {}
      },
      "source": [
        "# First we will setup a sequence length, an embedding size and a test size\n",
        "sequence_length = 200 # the length of all sequences (number of words per sample)\n",
        "embedding_size = 100  # Using 100-Dimensional GloVe embedding vectors\n",
        "test_size = 0.25 # ratio of testing set\n",
        "\n",
        "# to convert labels to integers and vice-versa\n",
        "label2int = {\"ham\": 0, \"spam\": 1}\n",
        "int2label = {0: \"ham\", 1: \"spam\"}"
      ],
      "execution_count": 0,
      "outputs": []
    },
    {
      "cell_type": "code",
      "metadata": {
        "id": "JlQyQmjHdpqr",
        "colab_type": "code",
        "outputId": "bde52fd6-a7da-41eb-fb76-037663e2f7da",
        "colab": {
          "base_uri": "https://localhost:8080/",
          "height": 34
        }
      },
      "source": [
        "type(full1), type(target)"
      ],
      "execution_count": 35,
      "outputs": [
        {
          "output_type": "execute_result",
          "data": {
            "text/plain": [
              "(list, list)"
            ]
          },
          "metadata": {
            "tags": []
          },
          "execution_count": 35
        }
      ]
    },
    {
      "cell_type": "code",
      "metadata": {
        "id": "IWi8GMQHd0eb",
        "colab_type": "code",
        "colab": {}
      },
      "source": [
        "# convert to numpy arrays\n",
        "X = np.array(full1)\n",
        "y = np.array(target)"
      ],
      "execution_count": 0,
      "outputs": []
    },
    {
      "cell_type": "code",
      "metadata": {
        "id": "dp5C7yb6eL11",
        "colab_type": "code",
        "outputId": "1d9cfbe5-8486-4f7d-f248-1688988e3e74",
        "colab": {
          "base_uri": "https://localhost:8080/",
          "height": 34
        }
      },
      "source": [
        "# Split \n",
        "X_train, X_test, y_train, y_test = train_test_split(X, y, test_size=test_size, random_state=7)\n",
        "X_train.shape, X_test.shape, y_train.shape, y_test.shape"
      ],
      "execution_count": 37,
      "outputs": [
        {
          "output_type": "execute_result",
          "data": {
            "text/plain": [
              "((4180,), (1394,), (4180,), (1394,))"
            ]
          },
          "metadata": {
            "tags": []
          },
          "execution_count": 37
        }
      ]
    },
    {
      "cell_type": "code",
      "metadata": {
        "id": "yavQXJANeadg",
        "colab_type": "code",
        "colab": {}
      },
      "source": [
        "# Initialize the tokenizer\n",
        "tokenizer = Tokenizer()"
      ],
      "execution_count": 0,
      "outputs": []
    },
    {
      "cell_type": "code",
      "metadata": {
        "id": "TXeOO3ESeoIB",
        "colab_type": "code",
        "outputId": "9c6fed41-8eb8-47f6-828a-7f64b4890cf3",
        "colab": {
          "base_uri": "https://localhost:8080/",
          "height": 34
        }
      },
      "source": [
        "X_train[10]"
      ],
      "execution_count": 39,
      "outputs": [
        {
          "output_type": "execute_result",
          "data": {
            "text/plain": [
              "'ok c ü'"
            ]
          },
          "metadata": {
            "tags": []
          },
          "execution_count": 39
        }
      ]
    },
    {
      "cell_type": "code",
      "metadata": {
        "id": "0UZCPKKBedBs",
        "colab_type": "code",
        "outputId": "c38f2af5-0fe0-4a7e-91de-fd4b945de749",
        "colab": {
          "base_uri": "https://localhost:8080/",
          "height": 34
        }
      },
      "source": [
        "# Text tokenization\n",
        "# vectorizing text, turning each text into sequence of integers\n",
        "tokenizer.fit_on_texts(X_train)\n",
        "# convert to sequence of integers\n",
        "X_train = tokenizer.texts_to_sequences(X_train)\n",
        "X_test = tokenizer.texts_to_sequences(X_test)\n",
        "X_train[10]"
      ],
      "execution_count": 40,
      "outputs": [
        {
          "output_type": "execute_result",
          "data": {
            "text/plain": [
              "[8, 91, 23]"
            ]
          },
          "metadata": {
            "tags": []
          },
          "execution_count": 40
        }
      ]
    },
    {
      "cell_type": "code",
      "metadata": {
        "id": "49FwV6z2d8tc",
        "colab_type": "code",
        "colab": {}
      },
      "source": [
        "# pad sequences at the beginning of each sequence with 0's\n",
        "# for example if SEQUENCE_LENGTH=4:\n",
        "# [[5, 3, 2], [5, 1, 2, 3], [3, 4]]\n",
        "# will be transformed to:\n",
        "# [[0, 5, 3, 2], [5, 1, 2, 3], [0, 0, 3, 4]]\n",
        "X_train = pad_sequences(X_train, maxlen=sequence_length)\n",
        "X_test = pad_sequences(X_test, maxlen=sequence_length)"
      ],
      "execution_count": 0,
      "outputs": []
    },
    {
      "cell_type": "code",
      "metadata": {
        "id": "hTxp1Pp8dnum",
        "colab_type": "code",
        "outputId": "3869ba07-a319-4a5e-a7ab-112a8ee84893",
        "colab": {
          "base_uri": "https://localhost:8080/",
          "height": 225
        }
      },
      "source": [
        "# Check the padding\n",
        "X_train[10]"
      ],
      "execution_count": 42,
      "outputs": [
        {
          "output_type": "execute_result",
          "data": {
            "text/plain": [
              "array([ 0,  0,  0,  0,  0,  0,  0,  0,  0,  0,  0,  0,  0,  0,  0,  0,  0,\n",
              "        0,  0,  0,  0,  0,  0,  0,  0,  0,  0,  0,  0,  0,  0,  0,  0,  0,\n",
              "        0,  0,  0,  0,  0,  0,  0,  0,  0,  0,  0,  0,  0,  0,  0,  0,  0,\n",
              "        0,  0,  0,  0,  0,  0,  0,  0,  0,  0,  0,  0,  0,  0,  0,  0,  0,\n",
              "        0,  0,  0,  0,  0,  0,  0,  0,  0,  0,  0,  0,  0,  0,  0,  0,  0,\n",
              "        0,  0,  0,  0,  0,  0,  0,  0,  0,  0,  0,  0,  0,  0,  0,  0,  0,\n",
              "        0,  0,  0,  0,  0,  0,  0,  0,  0,  0,  0,  0,  0,  0,  0,  0,  0,\n",
              "        0,  0,  0,  0,  0,  0,  0,  0,  0,  0,  0,  0,  0,  0,  0,  0,  0,\n",
              "        0,  0,  0,  0,  0,  0,  0,  0,  0,  0,  0,  0,  0,  0,  0,  0,  0,\n",
              "        0,  0,  0,  0,  0,  0,  0,  0,  0,  0,  0,  0,  0,  0,  0,  0,  0,\n",
              "        0,  0,  0,  0,  0,  0,  0,  0,  0,  0,  0,  0,  0,  0,  0,  0,  0,\n",
              "        0,  0,  0,  0,  0,  0,  0,  0,  0,  0,  8, 91, 23], dtype=int32)"
            ]
          },
          "metadata": {
            "tags": []
          },
          "execution_count": 42
        }
      ]
    },
    {
      "cell_type": "code",
      "metadata": {
        "id": "8z5iyzKFf4kY",
        "colab_type": "code",
        "outputId": "a6769659-46c5-457c-80fb-36115364b8b3",
        "colab": {
          "base_uri": "https://localhost:8080/",
          "height": 34
        }
      },
      "source": [
        "# Verify the data shape\n",
        "X_train.shape, y_train.shape, X_test.shape, y_test.shape"
      ],
      "execution_count": 43,
      "outputs": [
        {
          "output_type": "execute_result",
          "data": {
            "text/plain": [
              "((4180, 200), (4180,), (1394, 200), (1394,))"
            ]
          },
          "metadata": {
            "tags": []
          },
          "execution_count": 43
        }
      ]
    },
    {
      "cell_type": "code",
      "metadata": {
        "id": "go_V6uhkgVs_",
        "colab_type": "code",
        "outputId": "350c7873-0893-4381-8f82-502effc70535",
        "colab": {
          "base_uri": "https://localhost:8080/",
          "height": 34
        }
      },
      "source": [
        "y_train[10]"
      ],
      "execution_count": 44,
      "outputs": [
        {
          "output_type": "execute_result",
          "data": {
            "text/plain": [
              "'ham'"
            ]
          },
          "metadata": {
            "tags": []
          },
          "execution_count": 44
        }
      ]
    },
    {
      "cell_type": "code",
      "metadata": {
        "id": "TGfhYnnzf4i8",
        "colab_type": "code",
        "colab": {}
      },
      "source": [
        "# One Hot encoding labels\n",
        "# [spam, ham, spam, ham, ham] will be converted to:\n",
        "# [1, 0, 1, 0, 1] and then to:\n",
        "# [[0, 1], [1, 0], [0, 1], [1, 0], [0, 1]]\n",
        "y_train = [label2int[label] for label in y_train]\n",
        "y_test = [label2int[label] for label in y_test]"
      ],
      "execution_count": 0,
      "outputs": []
    },
    {
      "cell_type": "code",
      "metadata": {
        "id": "Zs4NEf_TgpW4",
        "colab_type": "code",
        "outputId": "4d903b0a-5a29-4410-9319-72177c17c84f",
        "colab": {
          "base_uri": "https://localhost:8080/",
          "height": 34
        }
      },
      "source": [
        "y_train[0]"
      ],
      "execution_count": 46,
      "outputs": [
        {
          "output_type": "execute_result",
          "data": {
            "text/plain": [
              "0"
            ]
          },
          "metadata": {
            "tags": []
          },
          "execution_count": 46
        }
      ]
    },
    {
      "cell_type": "markdown",
      "metadata": {
        "id": "AQLrh4DAVjaJ",
        "colab_type": "text"
      },
      "source": [
        "Embeddings layer is a word representation layer that is learned jointly with a neural network model on a specific natural language processing task.\n",
        "This approach of learning an embedding layer requires a lot of training data and can be slow, but will learn an embedding both targeted to the specific text data and the NLP task."
      ]
    },
    {
      "cell_type": "markdown",
      "metadata": {
        "id": "IpT947Av1kWI",
        "colab_type": "text"
      },
      "source": [
        "### Deep Learning Model"
      ]
    },
    {
      "cell_type": "code",
      "metadata": {
        "id": "OijTGEhif4eR",
        "colab_type": "code",
        "outputId": "f324297a-805d-4dc8-9ef5-e5cf791b80c9",
        "colab": {
          "base_uri": "https://localhost:8080/",
          "height": 541
        }
      },
      "source": [
        "# Create the model\n",
        "model = Sequential()\n",
        "model.add(Embedding(embedding_size, 32, input_length=sequence_length))\n",
        "model.add(Flatten())\n",
        "model.add(Dense(250, activation='relu'))\n",
        "model.add(Dense(1, activation = 'sigmoid'))\n",
        "model.compile(loss='binary_crossentropy', optimizer='adam', metrics = ['accuracy'])\n",
        "model.summary()"
      ],
      "execution_count": 47,
      "outputs": [
        {
          "output_type": "stream",
          "text": [
            "WARNING:tensorflow:From /usr/local/lib/python3.6/dist-packages/keras/backend/tensorflow_backend.py:66: The name tf.get_default_graph is deprecated. Please use tf.compat.v1.get_default_graph instead.\n",
            "\n",
            "WARNING:tensorflow:From /usr/local/lib/python3.6/dist-packages/keras/backend/tensorflow_backend.py:541: The name tf.placeholder is deprecated. Please use tf.compat.v1.placeholder instead.\n",
            "\n",
            "WARNING:tensorflow:From /usr/local/lib/python3.6/dist-packages/keras/backend/tensorflow_backend.py:4432: The name tf.random_uniform is deprecated. Please use tf.random.uniform instead.\n",
            "\n",
            "WARNING:tensorflow:From /usr/local/lib/python3.6/dist-packages/keras/optimizers.py:793: The name tf.train.Optimizer is deprecated. Please use tf.compat.v1.train.Optimizer instead.\n",
            "\n",
            "WARNING:tensorflow:From /usr/local/lib/python3.6/dist-packages/keras/backend/tensorflow_backend.py:3657: The name tf.log is deprecated. Please use tf.math.log instead.\n",
            "\n",
            "WARNING:tensorflow:From /usr/local/lib/python3.6/dist-packages/tensorflow_core/python/ops/nn_impl.py:183: where (from tensorflow.python.ops.array_ops) is deprecated and will be removed in a future version.\n",
            "Instructions for updating:\n",
            "Use tf.where in 2.0, which has the same broadcast rule as np.where\n",
            "Model: \"sequential_1\"\n",
            "_________________________________________________________________\n",
            "Layer (type)                 Output Shape              Param #   \n",
            "=================================================================\n",
            "embedding_1 (Embedding)      (None, 200, 32)           3200      \n",
            "_________________________________________________________________\n",
            "flatten_1 (Flatten)          (None, 6400)              0         \n",
            "_________________________________________________________________\n",
            "dense_1 (Dense)              (None, 250)               1600250   \n",
            "_________________________________________________________________\n",
            "dense_2 (Dense)              (None, 1)                 251       \n",
            "=================================================================\n",
            "Total params: 1,603,701\n",
            "Trainable params: 1,603,701\n",
            "Non-trainable params: 0\n",
            "_________________________________________________________________\n"
          ],
          "name": "stdout"
        }
      ]
    },
    {
      "cell_type": "code",
      "metadata": {
        "id": "KbJPugegHdZW",
        "colab_type": "code",
        "colab": {}
      },
      "source": [
        "# Import modules to verify model\n",
        "import keras.metrics\n",
        "from sklearn.metrics import precision_score, recall_score, f1_score, accuracy_score, roc_auc_score, roc_curve,precision_recall_curve, auc"
      ],
      "execution_count": 0,
      "outputs": []
    },
    {
      "cell_type": "code",
      "metadata": {
        "id": "npkeF0IKhMA4",
        "colab_type": "code",
        "outputId": "06636865-7532-40e8-b436-518745bb7862",
        "colab": {
          "base_uri": "https://localhost:8080/",
          "height": 34
        }
      },
      "source": [
        "type(X_train), type(y_train)"
      ],
      "execution_count": 49,
      "outputs": [
        {
          "output_type": "execute_result",
          "data": {
            "text/plain": [
              "(numpy.ndarray, list)"
            ]
          },
          "metadata": {
            "tags": []
          },
          "execution_count": 49
        }
      ]
    },
    {
      "cell_type": "code",
      "metadata": {
        "id": "yg9GP9JphRPM",
        "colab_type": "code",
        "outputId": "ba34f67a-ef78-4f64-8ea9-98e5561fca60",
        "colab": {
          "base_uri": "https://localhost:8080/",
          "height": 34
        }
      },
      "source": [
        "y_train, y_test = np.array(y_train), np.array(y_test)\n",
        "type(y_train)"
      ],
      "execution_count": 50,
      "outputs": [
        {
          "output_type": "execute_result",
          "data": {
            "text/plain": [
              "numpy.ndarray"
            ]
          },
          "metadata": {
            "tags": []
          },
          "execution_count": 50
        }
      ]
    },
    {
      "cell_type": "code",
      "metadata": {
        "id": "wY0GEaE3H3vq",
        "colab_type": "code",
        "outputId": "ab7e520a-424d-4195-96a3-8a1990b03333",
        "colab": {
          "base_uri": "https://localhost:8080/",
          "height": 86
        }
      },
      "source": [
        "# print our data shapes for consistency\n",
        "print(\"X_train.shape:\", X_train.shape)\n",
        "print(\"X_test.shape:\", X_test.shape)\n",
        "print(\"y_train.shape:\", y_train.shape)\n",
        "print(\"y_test.shape:\", y_test.shape)"
      ],
      "execution_count": 51,
      "outputs": [
        {
          "output_type": "stream",
          "text": [
            "X_train.shape: (4180, 200)\n",
            "X_test.shape: (1394, 200)\n",
            "y_train.shape: (4180,)\n",
            "y_test.shape: (1394,)\n"
          ],
          "name": "stdout"
        }
      ]
    },
    {
      "cell_type": "code",
      "metadata": {
        "id": "iTMS6aY8HIKS",
        "colab_type": "code",
        "outputId": "85c31b1b-4d0c-49ed-e653-cb33158af005",
        "colab": {
          "base_uri": "https://localhost:8080/",
          "height": 1000
        }
      },
      "source": [
        "# train the model\n",
        "history = model.fit(X_train, y_train, validation_data=(X_test, y_test),\n",
        "                    batch_size=64, epochs=20,                 \n",
        "                    verbose=1)"
      ],
      "execution_count": 52,
      "outputs": [
        {
          "output_type": "stream",
          "text": [
            "WARNING:tensorflow:From /usr/local/lib/python3.6/dist-packages/keras/backend/tensorflow_backend.py:1033: The name tf.assign_add is deprecated. Please use tf.compat.v1.assign_add instead.\n",
            "\n",
            "WARNING:tensorflow:From /usr/local/lib/python3.6/dist-packages/keras/backend/tensorflow_backend.py:1020: The name tf.assign is deprecated. Please use tf.compat.v1.assign instead.\n",
            "\n",
            "WARNING:tensorflow:From /usr/local/lib/python3.6/dist-packages/keras/backend/tensorflow_backend.py:3005: The name tf.Session is deprecated. Please use tf.compat.v1.Session instead.\n",
            "\n",
            "Train on 4180 samples, validate on 1394 samples\n",
            "Epoch 1/20\n",
            "WARNING:tensorflow:From /usr/local/lib/python3.6/dist-packages/keras/backend/tensorflow_backend.py:190: The name tf.get_default_session is deprecated. Please use tf.compat.v1.get_default_session instead.\n",
            "\n",
            "WARNING:tensorflow:From /usr/local/lib/python3.6/dist-packages/keras/backend/tensorflow_backend.py:197: The name tf.ConfigProto is deprecated. Please use tf.compat.v1.ConfigProto instead.\n",
            "\n",
            "WARNING:tensorflow:From /usr/local/lib/python3.6/dist-packages/keras/backend/tensorflow_backend.py:207: The name tf.global_variables is deprecated. Please use tf.compat.v1.global_variables instead.\n",
            "\n",
            "WARNING:tensorflow:From /usr/local/lib/python3.6/dist-packages/keras/backend/tensorflow_backend.py:216: The name tf.is_variable_initialized is deprecated. Please use tf.compat.v1.is_variable_initialized instead.\n",
            "\n",
            "WARNING:tensorflow:From /usr/local/lib/python3.6/dist-packages/keras/backend/tensorflow_backend.py:223: The name tf.variables_initializer is deprecated. Please use tf.compat.v1.variables_initializer instead.\n",
            "\n",
            "4180/4180 [==============================] - 9s 2ms/step - loss: 0.3315 - acc: 0.8744 - val_loss: 0.2616 - val_acc: 0.8737\n",
            "Epoch 2/20\n",
            "4180/4180 [==============================] - 1s 139us/step - loss: 0.1484 - acc: 0.9512 - val_loss: 0.1407 - val_acc: 0.9584\n",
            "Epoch 3/20\n",
            "4180/4180 [==============================] - 1s 139us/step - loss: 0.1168 - acc: 0.9612 - val_loss: 0.1363 - val_acc: 0.9620\n",
            "Epoch 4/20\n",
            "4180/4180 [==============================] - 1s 140us/step - loss: 0.1008 - acc: 0.9696 - val_loss: 0.1100 - val_acc: 0.9713\n",
            "Epoch 5/20\n",
            "4180/4180 [==============================] - 1s 140us/step - loss: 0.0947 - acc: 0.9711 - val_loss: 0.1090 - val_acc: 0.9648\n",
            "Epoch 6/20\n",
            "4180/4180 [==============================] - 1s 137us/step - loss: 0.0881 - acc: 0.9720 - val_loss: 0.1061 - val_acc: 0.9735\n",
            "Epoch 7/20\n",
            "4180/4180 [==============================] - 1s 136us/step - loss: 0.0847 - acc: 0.9768 - val_loss: 0.1064 - val_acc: 0.9720\n",
            "Epoch 8/20\n",
            "4180/4180 [==============================] - 1s 143us/step - loss: 0.0833 - acc: 0.9751 - val_loss: 0.1060 - val_acc: 0.9670\n",
            "Epoch 9/20\n",
            "4180/4180 [==============================] - 1s 138us/step - loss: 0.0773 - acc: 0.9761 - val_loss: 0.1142 - val_acc: 0.9720\n",
            "Epoch 10/20\n",
            "4180/4180 [==============================] - 1s 141us/step - loss: 0.0719 - acc: 0.9789 - val_loss: 0.1081 - val_acc: 0.9699\n",
            "Epoch 11/20\n",
            "4180/4180 [==============================] - 1s 139us/step - loss: 0.0671 - acc: 0.9806 - val_loss: 0.1135 - val_acc: 0.9699\n",
            "Epoch 12/20\n",
            "4180/4180 [==============================] - 1s 140us/step - loss: 0.0658 - acc: 0.9813 - val_loss: 0.1115 - val_acc: 0.9663\n",
            "Epoch 13/20\n",
            "4180/4180 [==============================] - 1s 138us/step - loss: 0.0607 - acc: 0.9830 - val_loss: 0.1115 - val_acc: 0.9670\n",
            "Epoch 14/20\n",
            "4180/4180 [==============================] - 1s 137us/step - loss: 0.0576 - acc: 0.9837 - val_loss: 0.1151 - val_acc: 0.9663\n",
            "Epoch 15/20\n",
            "4180/4180 [==============================] - 1s 145us/step - loss: 0.0578 - acc: 0.9828 - val_loss: 0.1202 - val_acc: 0.9634\n",
            "Epoch 16/20\n",
            "4180/4180 [==============================] - 1s 142us/step - loss: 0.0581 - acc: 0.9818 - val_loss: 0.1215 - val_acc: 0.9656\n",
            "Epoch 17/20\n",
            "4180/4180 [==============================] - 1s 148us/step - loss: 0.0519 - acc: 0.9856 - val_loss: 0.1308 - val_acc: 0.9634\n",
            "Epoch 18/20\n",
            "4180/4180 [==============================] - 1s 144us/step - loss: 0.0478 - acc: 0.9871 - val_loss: 0.1343 - val_acc: 0.9648\n",
            "Epoch 19/20\n",
            "4180/4180 [==============================] - 1s 148us/step - loss: 0.0470 - acc: 0.9866 - val_loss: 0.1347 - val_acc: 0.9656\n",
            "Epoch 20/20\n",
            "4180/4180 [==============================] - 1s 142us/step - loss: 0.0478 - acc: 0.9880 - val_loss: 0.1454 - val_acc: 0.9634\n"
          ],
          "name": "stdout"
        }
      ]
    },
    {
      "cell_type": "code",
      "metadata": {
        "id": "6L-YPCIBIAlg",
        "colab_type": "code",
        "outputId": "c391f327-9116-4f01-c71e-31059282d882",
        "colab": {
          "base_uri": "https://localhost:8080/",
          "height": 52
        }
      },
      "source": [
        "# get the loss and metrics\n",
        "result = model.evaluate(X_test, y_test)\n",
        "# # extract those\n",
        "loss = result[0]\n",
        "accuracy = result[1]\n",
        "# print accuracy\n",
        "print(f\"[+] Accuracy: {accuracy*100:.2f}%\")"
      ],
      "execution_count": 53,
      "outputs": [
        {
          "output_type": "stream",
          "text": [
            "1394/1394 [==============================] - 0s 72us/step\n",
            "[+] Accuracy: 96.34%\n"
          ],
          "name": "stdout"
        }
      ]
    },
    {
      "cell_type": "code",
      "metadata": {
        "id": "Ox3jMyuxZ8gV",
        "colab_type": "code",
        "outputId": "d18589d1-1c1f-4ba5-d65a-e3520aebf69b",
        "colab": {
          "base_uri": "https://localhost:8080/",
          "height": 295
        }
      },
      "source": [
        "# Summarize history for accuracy\n",
        "plt.plot(history.history['acc'])\n",
        "plt.plot(history.history['val_acc'])\n",
        "plt.title('model accuracy')\n",
        "plt.xlabel('epochs')\n",
        "plt.ylabel('accuracy')\n",
        "plt.legend(['train', 'test'], loc = 'upper left')\n",
        "plt.show()"
      ],
      "execution_count": 57,
      "outputs": [
        {
          "output_type": "display_data",
          "data": {
            "image/png": "[encoded data removed]",
            "text/plain": [
              "<Figure size 432x288 with 1 Axes>"
            ]
          },
          "metadata": {
            "tags": []
          }
        }
      ]
    },
    {
      "cell_type": "markdown",
      "metadata": {
        "id": "VkTtNK1WXvoX",
        "colab_type": "text"
      },
      "source": [
        "From our results on the train and test results for a simple neural network architecture, we see an accuracy of 98.59% accuracy on the train and 96.27%. This is suspiciously good and needs to be investigated. I know the data is imbalanced, and since I did not deal with the imbalance yet, I probably need to test other model metrics like recall and precision before concluding or persisting any one model."
      ]
    },
    {
      "cell_type": "code",
      "metadata": {
        "id": "X3u4kMGGTlE1",
        "colab_type": "code",
        "outputId": "9ca65612-f7b4-4bf3-958c-3f8831a0b152",
        "colab": {
          "base_uri": "https://localhost:8080/",
          "height": 295
        }
      },
      "source": [
        "# Summarize history for accuracy\n",
        "plt.plot(history.history['loss'])\n",
        "plt.plot(history.history['val_loss'])\n",
        "plt.title('model loss')\n",
        "plt.xlabel('epochs')\n",
        "plt.ylabel('Loss')\n",
        "plt.legend(['train', 'test'], loc = 'upper left')\n",
        "plt.show()"
      ],
      "execution_count": 58,
      "outputs": [
        {
          "output_type": "display_data",
          "data": {
            "image/png": "[encoded data removed]",
            "text/plain": [
              "<Figure size 432x288 with 1 Axes>"
            ]
          },
          "metadata": {
            "tags": []
          }
        }
      ]
    },
    {
      "cell_type": "code",
      "metadata": {
        "id": "3_1D1dbvnnVn",
        "colab_type": "code",
        "colab": {}
      },
      "source": [
        "# predict probabilities for test set\n",
        "yhat_probs = model.predict(X_test, verbose=0)\n",
        "# predict crisp classes for test set\n",
        "yhat_classes = model.predict_classes(X_test, verbose=0)"
      ],
      "execution_count": 0,
      "outputs": []
    },
    {
      "cell_type": "code",
      "metadata": {
        "id": "ScVBEM7Cs6l6",
        "colab_type": "code",
        "outputId": "9b9a6ecd-188a-4b32-db8f-7d079d76debc",
        "colab": {
          "base_uri": "https://localhost:8080/",
          "height": 34
        }
      },
      "source": [
        "yhat_probs.shape"
      ],
      "execution_count": 60,
      "outputs": [
        {
          "output_type": "execute_result",
          "data": {
            "text/plain": [
              "(1394, 1)"
            ]
          },
          "metadata": {
            "tags": []
          },
          "execution_count": 60
        }
      ]
    },
    {
      "cell_type": "code",
      "metadata": {
        "id": "PSERyAJ1nzj9",
        "colab_type": "code",
        "colab": {}
      },
      "source": [
        "# reduce to 1d array\n",
        "yhat_probs = yhat_probs[:, 0]\n",
        "yhat_classes = yhat_classes[:, 0]"
      ],
      "execution_count": 0,
      "outputs": []
    },
    {
      "cell_type": "code",
      "metadata": {
        "id": "MFZfSW0Zn4-n",
        "colab_type": "code",
        "outputId": "6a11541f-010f-4e18-9b01-e883f53ec07f",
        "colab": {
          "base_uri": "https://localhost:8080/",
          "height": 86
        }
      },
      "source": [
        "# accuracy: (tp + tn) / (p + n)\n",
        "accuracy = accuracy_score(y_test, yhat_classes)\n",
        "print('Accuracy: %f' % accuracy)\n",
        "# precision tp / (tp + fp)\n",
        "precision = precision_score(y_test, yhat_classes)\n",
        "print('Precision: %f' % precision)\n",
        "# recall: tp / (tp + fn)\n",
        "recall = recall_score(y_test, yhat_classes)\n",
        "print('Recall: %f' % recall)\n",
        "# f1: 2 tp / (2 tp + fp + fn)\n",
        "f1 = f1_score(y_test, yhat_classes)\n",
        "print('F1 score: %f' % f1)"
      ],
      "execution_count": 65,
      "outputs": [
        {
          "output_type": "stream",
          "text": [
            "Accuracy: 0.963415\n",
            "Precision: 0.939394\n",
            "Recall: 0.790816\n",
            "F1 score: 0.858726\n"
          ],
          "name": "stdout"
        }
      ]
    },
    {
      "cell_type": "code",
      "metadata": {
        "id": "L1J2kOEypdt8",
        "colab_type": "code",
        "outputId": "3e7a2a1d-6185-4f13-8a02-4ba6fe328bd9",
        "colab": {
          "base_uri": "https://localhost:8080/",
          "height": 314
        }
      },
      "source": [
        "# predict probabilities\n",
        "yhat_probs = model.predict(X_test, verbose=0)\n",
        "# keep probabilities for the positive outcome only\n",
        "yhat_probs = yhat_probs[:, 0]\n",
        "# Generate a no skill prediction\n",
        "ns_probs = [0 for _ in range(len(y_test))]\n",
        "# calculate scores\n",
        "ns_auc = roc_auc_score(y_test, ns_probs)\n",
        "nn_auc = roc_auc_score(y_test, yhat_probs)\n",
        "# summarize scores\n",
        "print('No Skill: ROC AUC=%.3f' % (ns_auc))\n",
        "print('Neural Model: ROC AUC=%.3f' % (nn_auc))\n",
        "# calculate roc curves\n",
        "ns_fpr, ns_tpr, _ = roc_curve(y_test, ns_probs)\n",
        "nn_fpr, nn_tpr, _ = roc_curve(y_test, yhat_probs)\n",
        "# plot the roc curve for the model\n",
        "plt.plot(ns_fpr, ns_tpr, linestyle='--', label='No Skill')\n",
        "plt.plot(nn_fpr, nn_tpr, marker='.', label='Neural Model')\n",
        "# axis labels\n",
        "plt.xlabel('False Positive Rate')\n",
        "plt.ylabel('True Positive Rate')\n",
        "# show the legend\n",
        "plt.legend()\n",
        "# show the plot\n",
        "plt.show()"
      ],
      "execution_count": 71,
      "outputs": [
        {
          "output_type": "stream",
          "text": [
            "No Skill: ROC AUC=0.500\n",
            "Neural Model: ROC AUC=0.966\n"
          ],
          "name": "stdout"
        },
        {
          "output_type": "display_data",
          "data": {
            "image/png": "[encoded data removed]",
            "text/plain": [
              "<Figure size 432x288 with 1 Axes>"
            ]
          },
          "metadata": {
            "tags": []
          }
        }
      ]
    },
    {
      "cell_type": "code",
      "metadata": {
        "colab_type": "code",
        "outputId": "34bca994-01d7-4e6f-c23b-16f1a0daec01",
        "id": "xeHu9MDaGk2j",
        "colab": {
          "base_uri": "https://localhost:8080/",
          "height": 296
        }
      },
      "source": [
        "# keep probabilities for the positive outcome only\n",
        "nn_precision, nn_recall, _ = precision_recall_curve(y_test, yhat_probs)\n",
        "nn_f1, nn_auc = f1_score(y_test, yhat_classes), auc(nn_recall, nn_precision)\n",
        "# summarize scores\n",
        "print('Neural Model: f1=%.3f auc=%.3f' % (nn_f1, nn_auc))\n",
        "# plot the precision-recall curves\n",
        "no_skill = len(y_test[y_test==1]) / len(y_test)\n",
        "plt.plot([0, 1] ,[no_skill,no_skill ],linestyle='--', label='No Skill')\n",
        "plt.plot(nn_recall, nn_precision, marker='.', label='Neural Model')\n",
        "# axis labels\n",
        "plt.xlabel('Recall')\n",
        "plt.ylabel('Precision')\n",
        "# show the legend\n",
        "plt.legend()\n",
        "# show the plot\n",
        "plt.show()"
      ],
      "execution_count": 94,
      "outputs": [
        {
          "output_type": "stream",
          "text": [
            "Neural Model: f1=0.859 auc=0.916\n"
          ],
          "name": "stdout"
        },
        {
          "output_type": "display_data",
          "data": {
            "image/png": "[encoded data removed]",
            "text/plain": [
              "<Figure size 432x288 with 1 Axes>"
            ]
          },
          "metadata": {
            "tags": []
          }
        }
      ]
    },
    {
      "cell_type": "markdown",
      "metadata": {
        "id": "Y1wErFdXucm0",
        "colab_type": "text"
      },
      "source": [
        "Our Neural Network Model seems to be performing really good on our data as seen from the precision/recall curve as well as the AUC curve. This is without persisting or building a deep model. \n",
        "\n",
        "Let's take a step back and build a simple machine learning model for the same task."
      ]
    },
    {
      "cell_type": "markdown",
      "metadata": {
        "id": "H4ZRPSSIjU5u",
        "colab_type": "text"
      },
      "source": [
        "Let's try a simple machine learning model. **Naive Bayes**"
      ]
    },
    {
      "cell_type": "markdown",
      "metadata": {
        "id": "OHvwpnOV1Vqw",
        "colab_type": "text"
      },
      "source": [
        "### Naive Bayes Model"
      ]
    },
    {
      "cell_type": "code",
      "metadata": {
        "id": "8pLoX1a-Tkp3",
        "colab_type": "code",
        "colab": {}
      },
      "source": [
        "# Import modules\n",
        "from sklearn.naive_bayes import GaussianNB\n",
        "from sklearn.metrics import classification_report, accuracy_score, auc, confusion_matrix, plot_precision_recall_curve, roc_auc_score, roc_curve, precision_recall_curve"
      ],
      "execution_count": 0,
      "outputs": []
    },
    {
      "cell_type": "code",
      "metadata": {
        "id": "G39lCyfakBwj",
        "colab_type": "code",
        "colab": {}
      },
      "source": [
        "# Instantiate the class\n",
        "gnb = GaussianNB()"
      ],
      "execution_count": 0,
      "outputs": []
    },
    {
      "cell_type": "code",
      "metadata": {
        "id": "awtGrkFFIAb4",
        "colab_type": "code",
        "outputId": "a1c9d36d-d884-4dc0-cb0c-cb154ac710e1",
        "colab": {
          "base_uri": "https://localhost:8080/",
          "height": 34
        }
      },
      "source": [
        "# Fit a naive bayes model\n",
        "y_pred = gnb.fit(X_train, y_train).predict(X_test)\n",
        "print(\"Number of mislabeled points out of a total %d points : %d\" % (X_test.shape[0], (y_test != y_pred).sum()))"
      ],
      "execution_count": 81,
      "outputs": [
        {
          "output_type": "stream",
          "text": [
            "Number of mislabeled points out of a total 1394 points : 1175\n"
          ],
          "name": "stdout"
        }
      ]
    },
    {
      "cell_type": "code",
      "metadata": {
        "id": "5TGPnJnJkitB",
        "colab_type": "code",
        "outputId": "592296ed-4ebe-4bf0-8861-7be4c1475afb",
        "colab": {
          "base_uri": "https://localhost:8080/",
          "height": 173
        }
      },
      "source": [
        "# Print classification report\n",
        "print(classification_report(y_test, y_pred, labels=[0,1], target_names=['ham', 'spam']))"
      ],
      "execution_count": 82,
      "outputs": [
        {
          "output_type": "stream",
          "text": [
            "              precision    recall  f1-score   support\n",
            "\n",
            "         ham       1.00      0.02      0.04      1198\n",
            "        spam       0.14      1.00      0.25       196\n",
            "\n",
            "    accuracy                           0.16      1394\n",
            "   macro avg       0.57      0.51      0.14      1394\n",
            "weighted avg       0.88      0.16      0.07      1394\n",
            "\n"
          ],
          "name": "stdout"
        }
      ]
    },
    {
      "cell_type": "markdown",
      "metadata": {
        "id": "__W8uydXmeK6",
        "colab_type": "text"
      },
      "source": [
        "As expected, our naive bayes model is performing badly on the spam class. I need to do some upsampling on the spam class to get a much better distribution for modelling. Why upsampling? Because of the heavy skew in the data as noticed above, downsampling the higher class will result in a really small dataset for building a model and may still arrive at terrible results."
      ]
    },
    {
      "cell_type": "code",
      "metadata": {
        "id": "Qrwly3zTmc81",
        "colab_type": "code",
        "outputId": "28a04d18-7369-4b06-efe8-968399397041",
        "colab": {
          "base_uri": "https://localhost:8080/",
          "height": 52
        }
      },
      "source": [
        "# check confusion matrix\n",
        "print(confusion_matrix(y_test, y_pred, labels=[0, 1]))"
      ],
      "execution_count": 83,
      "outputs": [
        {
          "output_type": "stream",
          "text": [
            "[[  23 1175]\n",
            " [   0  196]]\n"
          ],
          "name": "stdout"
        }
      ]
    },
    {
      "cell_type": "code",
      "metadata": {
        "id": "OV4JITikkin4",
        "colab_type": "code",
        "outputId": "823a9392-a74f-4df6-807b-13c9ae130482",
        "colab": {
          "base_uri": "https://localhost:8080/",
          "height": 296
        }
      },
      "source": [
        "# plot a precision recall curve\n",
        "plot_precision_recall_curve(gnb, X_train, y_train)"
      ],
      "execution_count": 84,
      "outputs": [
        {
          "output_type": "execute_result",
          "data": {
            "text/plain": [
              "<sklearn.metrics._plot.precision_recall_curve.PrecisionRecallDisplay at 0x7fdbb013fda0>"
            ]
          },
          "metadata": {
            "tags": []
          },
          "execution_count": 84
        },
        {
          "output_type": "display_data",
          "data": {
            "image/png": "[encoded data removed]",
            "text/plain": [
              "<Figure size 432x288 with 1 Axes>"
            ]
          },
          "metadata": {
            "tags": []
          }
        }
      ]
    },
    {
      "cell_type": "markdown",
      "metadata": {
        "id": "OQKhtDHfv4c6",
        "colab_type": "text"
      },
      "source": [
        "This now begs the question, why is the naive bayes model performing poorly on this data?\n",
        "\n",
        "Those follwing techniques might improve the performance:\n",
        "  1. Upsampling lower class.\n",
        "  2. Downsampling higher class\n",
        "  3. Changing the data embeddings, vectorization and sequence \n",
        "padding.\n",
        "  4. Try bag of words method.\n",
        "\n",
        " I'll take an unsupervised machine learning look at the data."
      ]
    },
    {
      "cell_type": "markdown",
      "metadata": {
        "id": "CYTh9TY_1Jzh",
        "colab_type": "text"
      },
      "source": [
        "### Unsupervised Segmentation."
      ]
    },
    {
      "cell_type": "code",
      "metadata": {
        "id": "rNHDQ3Ooyga9",
        "colab_type": "code",
        "colab": {}
      },
      "source": [
        "# Import KMeans algorithm.\n",
        "from sklearn.cluster import KMeans"
      ],
      "execution_count": 0,
      "outputs": []
    },
    {
      "cell_type": "code",
      "metadata": {
        "id": "oE82pC2Tkilk",
        "colab_type": "code",
        "colab": {}
      },
      "source": [
        "# Test a number of k values to select optimal k value to use\n",
        "distortions = []\n",
        "K = range(1,10)\n",
        "for k in K:\n",
        "    kmeanModel = KMeans(n_clusters=k)\n",
        "    kmeanModel.fit(X_train)\n",
        "    distortions.append(kmeanModel.inertia_)"
      ],
      "execution_count": 0,
      "outputs": []
    },
    {
      "cell_type": "code",
      "metadata": {
        "id": "MNICtwYjyfA6",
        "colab_type": "code",
        "outputId": "09a15bfa-c951-4950-df18-2dc42c0dc3cf",
        "colab": {
          "base_uri": "https://localhost:8080/",
          "height": 350
        }
      },
      "source": [
        "# Plot the optimal k\n",
        "plt.figure(figsize=(8,5))\n",
        "plt.plot(K, distortions, 'bx-')\n",
        "plt.xlabel('k')\n",
        "plt.ylabel('Distortion')\n",
        "plt.title('The Elbow Method showing the optimal k')\n",
        "plt.show()"
      ],
      "execution_count": 87,
      "outputs": [
        {
          "output_type": "display_data",
          "data": {
            "image/png": "[encoded data removed]",
            "text/plain": [
              "<Figure size 576x360 with 1 Axes>"
            ]
          },
          "metadata": {
            "tags": []
          }
        }
      ]
    },
    {
      "cell_type": "markdown",
      "metadata": {
        "id": "AcbjGI7xzLrD",
        "colab_type": "text"
      },
      "source": [
        "After using KMeans clustering algorithm and running against a number of K values (within the range 1 - 10), we can see the elbow method plot above.\n",
        "If I am to select an optimal K from the above, I'll select 2. However, this still is quite vague begging the issue of the data. \n",
        "\n",
        "Thus I can further this by taking a look at other distances for finding segments in data (Minowski, manhattan, euclidean, etc) and see if these clearly distinct the data points."
      ]
    }
  ]
}